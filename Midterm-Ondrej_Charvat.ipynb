{
 "cells": [
  {
   "cell_type": "code",
   "execution_count": 2,
   "metadata": {},
   "outputs": [],
   "source": [
    "%matplotlib inline\n",
    "import matplotlib.pyplot as plt\n",
    "import requests\n",
    "\n",
    "import pandas as pd\n",
    "import numpy as np\n",
    "from bs4 import BeautifulSoup"
   ]
  },
  {
   "cell_type": "code",
   "execution_count": 49,
   "metadata": {},
   "outputs": [],
   "source": [
    "url='https://en.wikipedia.org/wiki/20th_Century%27s_Greatest_Hits:_100_English-Language_Books_of_Fiction'\n",
    "source = requests.get(url).text\n",
    "soup = BeautifulSoup(source, 'lxml')\n",
    "olsoup = soup.find('ol')\n",
    "#print(soup.prettify())\n",
    "#print(olsoup)"
   ]
  },
  {
   "cell_type": "code",
   "execution_count": 36,
   "metadata": {},
   "outputs": [],
   "source": [
    "names = olsoup.text\n",
    "names =  names.split('\\n')\n",
    "names;"
   ]
  },
  {
   "cell_type": "code",
   "execution_count": 47,
   "metadata": {},
   "outputs": [],
   "source": [
    "links = str(olsoup).split('href')\n",
    "links = links[1:]\n",
    "links\n",
    "newlinks = []\n",
    "\n",
    "for i in links:\n",
    "    \n",
    "    newlinks.append('https://en.wikipedia.org/' + i.split('=')[1][2:].split('title')[0][:-2])\n",
    "\n",
    "newlinks;"
   ]
  },
  {
   "cell_type": "code",
   "execution_count": 61,
   "metadata": {},
   "outputs": [],
   "source": [
    "df = pd.DataFrame(list(zip(names,newlinks)), columns=['Titles','Links'])\n",
    "#print(df)"
   ]
  },
  {
   "cell_type": "code",
   "execution_count": 72,
   "metadata": {},
   "outputs": [],
   "source": [
    "def getinfo(link):\n",
    "    '''this should get me the info from the tables in feeded links'''\n",
    "    soup = BeautifulSoup(requests.get(link).text, 'lxml').find('table', {'class':'infobox vcard'})\n",
    "    return[i.find('th', {'scope':'row'}) for i in soup.find_all('tr')]"
   ]
  },
  {
   "cell_type": "code",
   "execution_count": 73,
   "metadata": {},
   "outputs": [
    {
     "data": {
      "text/plain": [
       "[None,\n",
       " <th scope=\"row\">Author</th>,\n",
       " <th scope=\"row\">Cover artist</th>,\n",
       " <th scope=\"row\">Country</th>,\n",
       " <th scope=\"row\">Language</th>,\n",
       " <th scope=\"row\">Genre</th>,\n",
       " <th scope=\"row\">Set in</th>,\n",
       " <th scope=\"row\">Publisher</th>,\n",
       " <th scope=\"row\">Media type</th>,\n",
       " <th scope=\"row\">Pages</th>,\n",
       " <th scope=\"row\">Awards</th>,\n",
       " <th scope=\"row\"><a href=\"/wiki/OCLC#Identifiers_and_linked_data\" title=\"OCLC\"><abbr title=\"Online Computer Library Center number\">OCLC</abbr></a></th>,\n",
       " <th scope=\"row\"><div style=\"padding:0.1em 0;line-height:1.2em;\"><a href=\"/wiki/Dewey_Decimal_Classification\" title=\"Dewey Decimal Classification\">Dewey Decimal</a></div></th>]"
      ]
     },
     "execution_count": 73,
     "metadata": {},
     "output_type": "execute_result"
    }
   ],
   "source": [
    "#trying it on the first link\n",
    "getinfo('https://en.wikipedia.org/wiki/Nineteen_Eighty-Four')"
   ]
  },
  {
   "cell_type": "code",
   "execution_count": 84,
   "metadata": {},
   "outputs": [],
   "source": [
    "def getChars(link):\n",
    "    '''getting the names of all attributes we want to collect'''\n",
    "    soup = BeautifulSoup(requests.get(link).text, 'lxml').find('table', {'class':'infobox vcard'})\n",
    "    return[i.find('th', {'scope':'row'}) for i in soup.find_all('tr')]"
   ]
  },
  {
   "cell_type": "code",
   "execution_count": 99,
   "metadata": {},
   "outputs": [
    {
     "data": {
      "text/plain": [
       "[<th scope=\"row\">Author</th>,\n",
       " <th scope=\"row\">Cover artist</th>,\n",
       " <th scope=\"row\">Country</th>,\n",
       " <th scope=\"row\">Language</th>,\n",
       " <th scope=\"row\">Genre</th>,\n",
       " <th scope=\"row\">Set in</th>,\n",
       " <th scope=\"row\">Publisher</th>,\n",
       " <th scope=\"row\">Media type</th>,\n",
       " <th scope=\"row\">Pages</th>,\n",
       " <th scope=\"row\">Awards</th>]"
      ]
     },
     "execution_count": 99,
     "metadata": {},
     "output_type": "execute_result"
    }
   ],
   "source": [
    "chars = getChars('https://en.wikipedia.org/wiki/Nineteen_Eighty-Four')[1:-2]\n",
    "#chars.split('</')\n",
    "chars"
   ]
  },
  {
   "cell_type": "markdown",
   "metadata": {},
   "source": [
    "#### Work with the data to get the answer:"
   ]
  },
  {
   "cell_type": "code",
   "execution_count": null,
   "metadata": {},
   "outputs": [],
   "source": [
    "for i in newlinks:\n",
    "    '''having the condition if the table is available'''\n",
    "    try:\n",
    "        getInfo(i)\n",
    "    except Exception as e:\n",
    "        print(e)"
   ]
  },
  {
   "cell_type": "markdown",
   "metadata": {},
   "source": [
    "### Answer to the question:"
   ]
  },
  {
   "cell_type": "markdown",
   "metadata": {},
   "source": [
    "sorry, i am so dumb and slow"
   ]
  }
 ],
 "metadata": {
  "kernelspec": {
   "display_name": "Python 3",
   "language": "python",
   "name": "python3"
  },
  "language_info": {
   "codemirror_mode": {
    "name": "ipython",
    "version": 3
   },
   "file_extension": ".py",
   "mimetype": "text/x-python",
   "name": "python",
   "nbconvert_exporter": "python",
   "pygments_lexer": "ipython3",
   "version": "3.7.3"
  }
 },
 "nbformat": 4,
 "nbformat_minor": 2
}
